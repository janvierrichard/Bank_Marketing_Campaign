{
 "cells": [
  {
   "cell_type": "code",
   "execution_count": 1,
   "id": "f8f3731d",
   "metadata": {},
   "outputs": [],
   "source": [
    "import numpy as np\n",
    "import pandas as pd\n",
    "import matplotlib.pyplot as plt\n",
    "import seaborn as sns\n",
    "from sklearn.linear_model import LogisticRegression\n",
    "from sklearn.model_selection import train_test_split"
   ]
  },
  {
   "cell_type": "code",
   "execution_count": 2,
   "id": "2696785d",
   "metadata": {},
   "outputs": [],
   "source": [
    "df = pd.read_csv(r\"C:\\Users\\USER\\Documents\\Dataset Exercise for Data Science\\bank.csv\")"
   ]
  },
  {
   "cell_type": "code",
   "execution_count": 3,
   "id": "3ccf49a2",
   "metadata": {},
   "outputs": [
    {
     "data": {
      "text/html": [
       "<div>\n",
       "<style scoped>\n",
       "    .dataframe tbody tr th:only-of-type {\n",
       "        vertical-align: middle;\n",
       "    }\n",
       "\n",
       "    .dataframe tbody tr th {\n",
       "        vertical-align: top;\n",
       "    }\n",
       "\n",
       "    .dataframe thead th {\n",
       "        text-align: right;\n",
       "    }\n",
       "</style>\n",
       "<table border=\"1\" class=\"dataframe\">\n",
       "  <thead>\n",
       "    <tr style=\"text-align: right;\">\n",
       "      <th></th>\n",
       "      <th>age</th>\n",
       "      <th>job</th>\n",
       "      <th>marital</th>\n",
       "      <th>education</th>\n",
       "      <th>default</th>\n",
       "      <th>balance</th>\n",
       "      <th>housing</th>\n",
       "      <th>loan</th>\n",
       "      <th>contact</th>\n",
       "      <th>day</th>\n",
       "      <th>month</th>\n",
       "      <th>duration</th>\n",
       "      <th>campaign</th>\n",
       "      <th>pdays</th>\n",
       "      <th>previous</th>\n",
       "      <th>poutcome</th>\n",
       "      <th>deposit</th>\n",
       "    </tr>\n",
       "  </thead>\n",
       "  <tbody>\n",
       "    <tr>\n",
       "      <th>0</th>\n",
       "      <td>59</td>\n",
       "      <td>admin.</td>\n",
       "      <td>married</td>\n",
       "      <td>secondary</td>\n",
       "      <td>no</td>\n",
       "      <td>2343</td>\n",
       "      <td>yes</td>\n",
       "      <td>no</td>\n",
       "      <td>unknown</td>\n",
       "      <td>5</td>\n",
       "      <td>may</td>\n",
       "      <td>1042</td>\n",
       "      <td>1</td>\n",
       "      <td>-1</td>\n",
       "      <td>0</td>\n",
       "      <td>unknown</td>\n",
       "      <td>yes</td>\n",
       "    </tr>\n",
       "    <tr>\n",
       "      <th>1</th>\n",
       "      <td>56</td>\n",
       "      <td>admin.</td>\n",
       "      <td>married</td>\n",
       "      <td>secondary</td>\n",
       "      <td>no</td>\n",
       "      <td>45</td>\n",
       "      <td>no</td>\n",
       "      <td>no</td>\n",
       "      <td>unknown</td>\n",
       "      <td>5</td>\n",
       "      <td>may</td>\n",
       "      <td>1467</td>\n",
       "      <td>1</td>\n",
       "      <td>-1</td>\n",
       "      <td>0</td>\n",
       "      <td>unknown</td>\n",
       "      <td>yes</td>\n",
       "    </tr>\n",
       "    <tr>\n",
       "      <th>2</th>\n",
       "      <td>41</td>\n",
       "      <td>technician</td>\n",
       "      <td>married</td>\n",
       "      <td>secondary</td>\n",
       "      <td>no</td>\n",
       "      <td>1270</td>\n",
       "      <td>yes</td>\n",
       "      <td>no</td>\n",
       "      <td>unknown</td>\n",
       "      <td>5</td>\n",
       "      <td>may</td>\n",
       "      <td>1389</td>\n",
       "      <td>1</td>\n",
       "      <td>-1</td>\n",
       "      <td>0</td>\n",
       "      <td>unknown</td>\n",
       "      <td>yes</td>\n",
       "    </tr>\n",
       "    <tr>\n",
       "      <th>3</th>\n",
       "      <td>55</td>\n",
       "      <td>services</td>\n",
       "      <td>married</td>\n",
       "      <td>secondary</td>\n",
       "      <td>no</td>\n",
       "      <td>2476</td>\n",
       "      <td>yes</td>\n",
       "      <td>no</td>\n",
       "      <td>unknown</td>\n",
       "      <td>5</td>\n",
       "      <td>may</td>\n",
       "      <td>579</td>\n",
       "      <td>1</td>\n",
       "      <td>-1</td>\n",
       "      <td>0</td>\n",
       "      <td>unknown</td>\n",
       "      <td>yes</td>\n",
       "    </tr>\n",
       "    <tr>\n",
       "      <th>4</th>\n",
       "      <td>54</td>\n",
       "      <td>admin.</td>\n",
       "      <td>married</td>\n",
       "      <td>tertiary</td>\n",
       "      <td>no</td>\n",
       "      <td>184</td>\n",
       "      <td>no</td>\n",
       "      <td>no</td>\n",
       "      <td>unknown</td>\n",
       "      <td>5</td>\n",
       "      <td>may</td>\n",
       "      <td>673</td>\n",
       "      <td>2</td>\n",
       "      <td>-1</td>\n",
       "      <td>0</td>\n",
       "      <td>unknown</td>\n",
       "      <td>yes</td>\n",
       "    </tr>\n",
       "  </tbody>\n",
       "</table>\n",
       "</div>"
      ],
      "text/plain": [
       "   age         job  marital  education default  balance housing loan  contact  \\\n",
       "0   59      admin.  married  secondary      no     2343     yes   no  unknown   \n",
       "1   56      admin.  married  secondary      no       45      no   no  unknown   \n",
       "2   41  technician  married  secondary      no     1270     yes   no  unknown   \n",
       "3   55    services  married  secondary      no     2476     yes   no  unknown   \n",
       "4   54      admin.  married   tertiary      no      184      no   no  unknown   \n",
       "\n",
       "   day month  duration  campaign  pdays  previous poutcome deposit  \n",
       "0    5   may      1042         1     -1         0  unknown     yes  \n",
       "1    5   may      1467         1     -1         0  unknown     yes  \n",
       "2    5   may      1389         1     -1         0  unknown     yes  \n",
       "3    5   may       579         1     -1         0  unknown     yes  \n",
       "4    5   may       673         2     -1         0  unknown     yes  "
      ]
     },
     "execution_count": 3,
     "metadata": {},
     "output_type": "execute_result"
    }
   ],
   "source": [
    "df.head()"
   ]
  },
  {
   "cell_type": "code",
   "execution_count": 4,
   "id": "11411d38",
   "metadata": {},
   "outputs": [
    {
     "name": "stdout",
     "output_type": "stream",
     "text": [
      "(11162, 17)\n"
     ]
    }
   ],
   "source": [
    "print(df.shape)"
   ]
  },
  {
   "cell_type": "code",
   "execution_count": 5,
   "id": "9a9b0149",
   "metadata": {},
   "outputs": [],
   "source": [
    "#Cleaning the data by removing the outlier\n",
    "q1 = df['balance'].quantile(0.9)\n",
    "df = df[df['balance'] < q1]\n",
    "\n",
    "q2 = df['duration'].quantile(0.99)\n",
    "df = df[df['duration'] < q2]\n",
    "\n",
    "q3 = df['previous'].quantile(0.99)\n",
    "df = df[df['previous'] < q3]\n",
    "\n",
    "q4 = df['campaign'].quantile(0.99)\n",
    "df = df[df['campaign'] < q4]"
   ]
  },
  {
   "cell_type": "code",
   "execution_count": 6,
   "id": "d9868374",
   "metadata": {},
   "outputs": [],
   "source": [
    "# Separate features (X) and target variable (y)\n",
    "X = df.drop('deposit', axis=1)\n",
    "y = df['deposit']\n",
    "\n",
    "# Split the dataset into training and test sets\n",
    "X_train, X_test, y_train, y_test = train_test_split(X, y, test_size=0.2, random_state=42)"
   ]
  },
  {
   "cell_type": "code",
   "execution_count": 7,
   "id": "2798525a",
   "metadata": {},
   "outputs": [],
   "source": [
    "# Categorize the 'job' column in the training set\n",
    "X_train.loc[~X_train['job'].isin(['unemployed']), 'job'] = 'employed'\n",
    "\n",
    "# Categorize the 'job' column in the test set\n",
    "X_test.loc[~X_test['job'].isin(['unemployed']), 'job'] = 'employed'"
   ]
  },
  {
   "cell_type": "code",
   "execution_count": 8,
   "id": "482b1707",
   "metadata": {},
   "outputs": [],
   "source": [
    "# Define the binning 'balance' categories\n",
    "balance_bins = [-float('inf'), 0, 200, 401, 601, 801, 1201, 1601, 2401, 3201, float('inf')]\n",
    "balance_labels = ['dormant', '0-200', '201-400', '401-600', '601-800', '801-1200', '1201-1600', '1601-2400', '2401-3200', '>3200']\n",
    "\n",
    "# Apply binning to the 'balance' column in the training set\n",
    "X_train['balance_category'] = pd.cut(X_train['balance'], bins=balance_bins, labels=balance_labels)\n",
    "\n",
    "# Apply binning to the 'balance' column in the test set\n",
    "X_test['balance_category'] = pd.cut(X_test['balance'], bins=balance_bins, labels=balance_labels)"
   ]
  },
  {
   "cell_type": "code",
   "execution_count": 9,
   "id": "7b928a76",
   "metadata": {},
   "outputs": [],
   "source": [
    "# Categorize the 'contact' column in the training set\n",
    "X_train.loc[~X_train['contact'].isin(['unknown']), 'contact'] = 'media'\n",
    "\n",
    "# Categorize the 'contact' column in the test set\n",
    "X_test.loc[~X_test['contact'].isin(['unknown']), 'contact'] = 'media'"
   ]
  },
  {
   "cell_type": "code",
   "execution_count": 10,
   "id": "58da997d",
   "metadata": {},
   "outputs": [],
   "source": [
    "# Define the binning 'duration' categories\n",
    "duration_bins = [0, 60, 120, 180, 240, 300, 360, 420, 480, 540, 600, float('inf')]\n",
    "duration_labels = ['0-60', '61-120', '121-180', '181-240', '241-300', '301-360', '361-420', '421-480', '481-540', '541-600', '>600']\n",
    "\n",
    "# Apply binning to the 'duration' column in the training set\n",
    "X_train['duration_category'] = pd.cut(X_train['duration'], bins=duration_bins, labels=duration_labels)\n",
    "\n",
    "# Apply binning to the 'duration' column in the test set\n",
    "X_test['duration_category'] = pd.cut(X_test['duration'], bins=duration_bins, labels=duration_labels)"
   ]
  },
  {
   "cell_type": "code",
   "execution_count": 11,
   "id": "608856cb",
   "metadata": {},
   "outputs": [],
   "source": [
    "# Define the binning 'campaign' categories\n",
    "campaign_bins = [0, 1, 2, float('inf')]\n",
    "campaign_labels = ['1', '2', 'More than 2']\n",
    "\n",
    "# Apply binning to the 'campaign' column in the training set\n",
    "X_train['campaign_category'] = pd.cut(X_train['campaign'], bins=campaign_bins, labels=campaign_labels)\n",
    "\n",
    "# Apply binning to the 'campaign' column in the test set\n",
    "X_test['campaign_category'] = pd.cut(X_test['campaign'], bins=campaign_bins, labels=campaign_labels)"
   ]
  },
  {
   "cell_type": "code",
   "execution_count": 12,
   "id": "a5f187d4",
   "metadata": {},
   "outputs": [],
   "source": [
    "# Define the binning 'pdays' categories\n",
    "pdays_bins = [-np.inf, -0.5, 85.5, 100.5, 175.5, 190.5, np.inf]\n",
    "pdays_labels = [99, 10, 1, 11, 2, 12]\n",
    "\n",
    "# Apply binning to the 'pdays' column in the training set\n",
    "X_train['pdays_category'] = pd.cut(X_train['pdays'], bins=pdays_bins, labels=pdays_labels)\n",
    "\n",
    "# Apply binning to the 'pdays' column in the test set\n",
    "X_test['pdays_category'] = pd.cut(X_test['pdays'], bins=pdays_bins, labels=pdays_labels)"
   ]
  },
  {
   "cell_type": "code",
   "execution_count": 13,
   "id": "1ce25fd3",
   "metadata": {},
   "outputs": [],
   "source": [
    "#Change the value of [10, 11, 12] to [98] as others category\n",
    "X_train['pdays_category'] = X_train['pdays_category'].replace([10, 11, 12], [98, 98, 98])\n",
    "X_test['pdays_category'] = X_test['pdays_category'].replace([10, 11, 12], [98, 98, 98])"
   ]
  },
  {
   "cell_type": "code",
   "execution_count": 14,
   "id": "ad9ee315",
   "metadata": {},
   "outputs": [],
   "source": [
    "# Define the binning 'previous' categories\n",
    "previous_bins = [-np.inf, 0.5, np.inf]\n",
    "previous_labels = [0, 1]\n",
    "\n",
    "# Apply binning to the 'previous' column in the training set\n",
    "X_train['previous_category'] = pd.cut(X_train['previous'], bins=previous_bins, labels=previous_labels)\n",
    "\n",
    "# Apply binning to the 'pdays' column in the test set\n",
    "X_test['previous_category'] = pd.cut(X_test['previous'], bins=previous_bins, labels=previous_labels)"
   ]
  },
  {
   "cell_type": "code",
   "execution_count": 15,
   "id": "b88aa64e",
   "metadata": {},
   "outputs": [],
   "source": [
    "X_train.drop('balance', axis=1, inplace=True)\n",
    "X_test.drop('balance', axis=1, inplace=True)"
   ]
  },
  {
   "cell_type": "code",
   "execution_count": 16,
   "id": "1874c596",
   "metadata": {},
   "outputs": [],
   "source": [
    "X_train.drop('duration', axis=1, inplace=True)\n",
    "X_test.drop('duration', axis=1, inplace=True)"
   ]
  },
  {
   "cell_type": "code",
   "execution_count": 17,
   "id": "d4b6a76c",
   "metadata": {},
   "outputs": [],
   "source": [
    "X_train.drop('campaign', axis=1, inplace=True)\n",
    "X_test.drop('campaign', axis=1, inplace=True)"
   ]
  },
  {
   "cell_type": "code",
   "execution_count": 18,
   "id": "37684d5b",
   "metadata": {},
   "outputs": [],
   "source": [
    "X_train.drop('pdays', axis=1, inplace=True)\n",
    "X_test.drop('pdays', axis=1, inplace=True)"
   ]
  },
  {
   "cell_type": "code",
   "execution_count": 19,
   "id": "63b40a0e",
   "metadata": {},
   "outputs": [],
   "source": [
    "X_train.drop('previous', axis=1, inplace=True)\n",
    "X_test.drop('previous', axis=1, inplace=True)"
   ]
  },
  {
   "cell_type": "code",
   "execution_count": 20,
   "id": "b7410cdf",
   "metadata": {},
   "outputs": [
    {
     "data": {
      "text/plain": [
       "Index(['age', 'job', 'marital', 'education', 'default', 'housing', 'loan',\n",
       "       'contact', 'day', 'month', 'poutcome', 'balance_category',\n",
       "       'duration_category', 'campaign_category', 'pdays_category',\n",
       "       'previous_category'],\n",
       "      dtype='object')"
      ]
     },
     "execution_count": 20,
     "metadata": {},
     "output_type": "execute_result"
    }
   ],
   "source": [
    "X_train.columns"
   ]
  },
  {
   "cell_type": "code",
   "execution_count": 21,
   "id": "4a7aede0",
   "metadata": {},
   "outputs": [],
   "source": [
    "#Feature engineering\n",
    "X_train = pd.get_dummies(X_train, drop_first = True)\n",
    "X_test = pd.get_dummies(X_test, drop_first = True)"
   ]
  },
  {
   "cell_type": "code",
   "execution_count": 22,
   "id": "718dc733",
   "metadata": {},
   "outputs": [
    {
     "data": {
      "text/plain": [
       "Index(['age', 'day', 'job_unemployed', 'marital_married', 'marital_single',\n",
       "       'education_secondary', 'education_tertiary', 'education_unknown',\n",
       "       'default_yes', 'housing_yes', 'loan_yes', 'contact_unknown',\n",
       "       'month_aug', 'month_dec', 'month_feb', 'month_jan', 'month_jul',\n",
       "       'month_jun', 'month_mar', 'month_may', 'month_nov', 'month_oct',\n",
       "       'month_sep', 'poutcome_other', 'poutcome_success', 'poutcome_unknown',\n",
       "       'balance_category_0-200', 'balance_category_201-400',\n",
       "       'balance_category_401-600', 'balance_category_601-800',\n",
       "       'balance_category_801-1200', 'balance_category_1201-1600',\n",
       "       'balance_category_1601-2400', 'balance_category_2401-3200',\n",
       "       'balance_category_>3200', 'duration_category_61-120',\n",
       "       'duration_category_121-180', 'duration_category_181-240',\n",
       "       'duration_category_241-300', 'duration_category_301-360',\n",
       "       'duration_category_361-420', 'duration_category_421-480',\n",
       "       'duration_category_481-540', 'duration_category_541-600',\n",
       "       'duration_category_>600', 'campaign_category_2',\n",
       "       'campaign_category_More than 2', 'pdays_category_98',\n",
       "       'pdays_category_1', 'pdays_category_2', 'previous_category_1'],\n",
       "      dtype='object')"
      ]
     },
     "execution_count": 22,
     "metadata": {},
     "output_type": "execute_result"
    }
   ],
   "source": [
    "X_train.columns"
   ]
  },
  {
   "cell_type": "code",
   "execution_count": 23,
   "id": "787afed0",
   "metadata": {},
   "outputs": [
    {
     "name": "stderr",
     "output_type": "stream",
     "text": [
      "C:\\Users\\USER\\anaconda3\\lib\\site-packages\\sklearn\\linear_model\\_logistic.py:814: ConvergenceWarning: lbfgs failed to converge (status=1):\n",
      "STOP: TOTAL NO. of ITERATIONS REACHED LIMIT.\n",
      "\n",
      "Increase the number of iterations (max_iter) or scale the data as shown in:\n",
      "    https://scikit-learn.org/stable/modules/preprocessing.html\n",
      "Please also refer to the documentation for alternative solver options:\n",
      "    https://scikit-learn.org/stable/modules/linear_model.html#logistic-regression\n",
      "  n_iter_i = _check_optimize_result(\n"
     ]
    },
    {
     "data": {
      "text/plain": [
       "LogisticRegression()"
      ]
     },
     "execution_count": 23,
     "metadata": {},
     "output_type": "execute_result"
    }
   ],
   "source": [
    "#Train the model using the training data\n",
    "LogReg = LogisticRegression(solver = 'lbfgs')\n",
    "LogReg.fit(X_train, y_train)"
   ]
  },
  {
   "cell_type": "code",
   "execution_count": 24,
   "id": "642e2a8e",
   "metadata": {},
   "outputs": [
    {
     "data": {
      "text/plain": [
       "0.810477657935285"
      ]
     },
     "execution_count": 24,
     "metadata": {},
     "output_type": "execute_result"
    }
   ],
   "source": [
    "#Predicting if a housing_yes subscribed to the term deposit\n",
    "LogReg.score(X_test, y_test)"
   ]
  },
  {
   "cell_type": "code",
   "execution_count": null,
   "id": "9bc79dac",
   "metadata": {},
   "outputs": [],
   "source": []
  }
 ],
 "metadata": {
  "kernelspec": {
   "display_name": "Python 3 (ipykernel)",
   "language": "python",
   "name": "python3"
  },
  "language_info": {
   "codemirror_mode": {
    "name": "ipython",
    "version": 3
   },
   "file_extension": ".py",
   "mimetype": "text/x-python",
   "name": "python",
   "nbconvert_exporter": "python",
   "pygments_lexer": "ipython3",
   "version": "3.9.13"
  }
 },
 "nbformat": 4,
 "nbformat_minor": 5
}
